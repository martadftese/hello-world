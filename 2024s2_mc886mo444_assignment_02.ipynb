{
  "nbformat": 4,
  "nbformat_minor": 0,
  "metadata": {
    "colab": {
      "provenance": [],
      "include_colab_link": true
    },
    "kernelspec": {
      "name": "python3",
      "display_name": "Python 3"
    },
    "language_info": {
      "name": "python"
    }
  },
  "cells": [
    {
      "cell_type": "markdown",
      "metadata": {
        "id": "view-in-github",
        "colab_type": "text"
      },
      "source": [
        "<a href=\"https://colab.research.google.com/github/martadftese/hello-world/blob/master/2024s2_mc886mo444_assignment_02.ipynb\" target=\"_parent\"><img src=\"https://colab.research.google.com/assets/colab-badge.svg\" alt=\"Open In Colab\"/></a>"
      ]
    },
    {
      "cell_type": "markdown",
      "source": [
        "# **Trabalho \\#2**:  Aprendizado de Máquina e Reconhecimento de Padrões MC886/MO444\n",
        "Instituto de Computação (IC/UNICAMP), 2ᵒ Semestre, 2024\n",
        "\n",
        "Profa. Sandra Avila, 2024s2\n",
        "\n",
        "Trabalho proposto por Caio Petrucci Rosa (PAD), Cesar Guedes Carneiro (PED) e Sandra Avila.\n",
        "\n"
      ],
      "metadata": {
        "id": "zERz0b9tFS0L"
      }
    },
    {
      "cell_type": "code",
      "source": [
        "# TODO: RA & Nome\n",
        "print('RA 1: ' + 'Nome_completo_1')\n",
        "print('RA 2: ' + 'Nome_completo_2')"
      ],
      "metadata": {
        "id": "DHI3b2gMFUu_"
      },
      "execution_count": null,
      "outputs": []
    },
    {
      "cell_type": "markdown",
      "source": [
        "## Objetivo\n",
        "\n",
        "Explore os modelos de **regressão linear** e **regressão logística** e apresente o melhor modelo que você encontrar para o problema, evitando o *overfitting*. Em particular, realize predições acerca do salário dos profissionais da área de dados no Brasil, com base nos dados da pesquisa State of Data Brazil 2023, levando em consideração variáveis como perfil demográfico, formação, experiência e atuação no setor.\n"
      ],
      "metadata": {
        "id": "5v4SESncFWNU"
      }
    },
    {
      "cell_type": "markdown",
      "source": [
        "---"
      ],
      "metadata": {
        "id": "Xk2ABCA0ZOq2"
      }
    },
    {
      "cell_type": "markdown",
      "source": [
        "## Base de Dados\n",
        "\n",
        "A base de dados deste trabalho foi criado a partir de dados disponibilizados em [State of Data Brazil 2023](https://www.kaggle.com/datasets/datahackers/state-of-data-brazil-2023). Os dados refletem a pesquisa realizada com profissionais da área de Ciência de Dados no Brasil. As respostas foram coletadas em 2023 e a base de dados contém uma ampla variedade de perguntas sobre o perfil demográfico, situação profissional e conhecimentos técnicos dessas pessoas.\n",
        "\n",
        "**Dicionário de dados:**\n",
        "\n",
        "* **id**: Identificador único da pessoa participante;\n",
        "\n",
        "* **idade**: Idade da pessoa participante;\n",
        "\n",
        "* **genero**: Gênero da pessoa participante;\n",
        "\n",
        "* **cor_raca**: Cor/raça/etnia da pessoa participante;\n",
        "\n",
        "* **pcd**: Se a pessoa participante possui alguma deficiência (PCD);\n",
        "\n",
        "* **estado_residencia**: Estado onde a pessoa participante mora;\n",
        "\n",
        "* **mudou_estado**: Se a pessoa participante mudou de estado recentemente;\n",
        "\n",
        "* **regiao_origem**: Região de origem da pessoa participante;\n",
        "\n",
        "* **nivel_ensino**: Nível de ensino da pessoa participante;\n",
        "\n",
        "* **area_formacao**: Área de formação acadêmica;\n",
        "\n",
        "* **situacao_trabalho**: Situação atual de trabalho;\n",
        "\n",
        "* **setor**: Setor em que a pessoa participante trabalha;\n",
        "\n",
        "* **numero_funcionarios**: Número de funcionários na empresa onde a pessoa participante trabalha;\n",
        "\n",
        "* **gestor**: Se a pessoa participante é gestor na empresa;\n",
        "\n",
        "* **cargo**: Cargo da pessoa participante;\n",
        "\n",
        "* **nivel_profissional**: Nível profissional da pessoa participante;\n",
        "\n",
        "* **tempo_exp_dados**: Tempo de experiência na área de dados;\n",
        "\n",
        "* **tempo_exp_ti**: Tempo de experiência prévia na área de TI ou Engenharia de Software antes de atuar com dados;\n",
        "\n",
        "* **satisfacao_empresa**: Nível de satisfação da pessoa participante com sua empresa atual;\n",
        "\n",
        "* **forma_trabalho_atual**: Forma de trabalho atual (presencial, remoto, híbrido);\n",
        "\n",
        "* **atuacao_dia_a_dia**: Reflexão da atuação da pessoa participante no dia a dia em relação ao cargo formal;\n",
        "\n",
        "* **fontes_dados_analise**: Fontes de dados já analisadas ou processadas pela pessoa participante no trabalho;\n",
        "\n",
        "* **fontes_dados_uso**: Fontes de dados mais utilizadas pela pessoa participante no trabalho;\n",
        "\n",
        "* **linguagens_trabalho**: Linguagens de programação utilizadas no trabalho;\n",
        "\n",
        "* **linguagem_mais_usada**: Linguagem de programação mais utilizada no trabalho;\n",
        "\n",
        "* **linguagem_preferida**: Linguagem de programação preferida da pessoa participante;\n",
        "\n",
        "* **bancos_dados_trabalho**: Bancos de dados utilizados no trabalho;\n",
        "\n",
        "* **cloud_preferida**: Cloud preferida da pessoa participante;\n",
        "\n",
        "* **cloud_usada**: Cloud usada no trabalho;\n",
        "\n",
        "* **ferramenta_bi_dia_a_dia**: Ferramenta de BI utilizada no dia a dia;\n",
        "\n",
        "* **ferramenta_bi_preferida**: Ferramenta de BI preferida;\n",
        "\n",
        "* **tipo_uso_ai**: Tipo de uso de AI Generativa e LLMs na empresa;\n",
        "\n",
        "* **uso_chatgpt**: Se a pessoa participante utiliza ChatGPT ou LLMs no trabalho;\n",
        "\n",
        "* **faixa_salarial**: Faixa salarial da pessoa participante;\n",
        "\n",
        "* **salario**: Valor do salário da pessoa participante.\n",
        "\n",
        "\n",
        "Você deve **respeitar a seguinte divisão de treino/teste**:\n",
        "\n",
        "    train_data.csv\n",
        "    test_data.csv\n",
        "\n",
        "Lembre-se de criar **seu próprio conjunto de validação**, a partir um subconjunto do conjunto de treinamento, e utilize o conjunto de teste (a ser disponibilizado) apenas para inferência e relato do resultado final."
      ],
      "metadata": {
        "id": "qp3ffmkzGrVw"
      }
    },
    {
      "cell_type": "markdown",
      "source": [
        "### Atividades"
      ],
      "metadata": {
        "id": "okl50K2ZZZ9l"
      }
    },
    {
      "cell_type": "markdown",
      "source": [
        "1. (0,4 pontos) Realize a limpeza e preparação dos dados de treinamento.\n",
        "\n",
        "  > **Considere os seguintes fatores:**\n",
        "  > - Existem outliers nos dados? Se sim, como você pretende tratá-los (removê-los, ajustá-los, ou usar uma abordagem alternativa)?\n",
        "  > - Há valores ausentes? Se sim, como irá lidar com eles? (Ex.: exclusão de linhas, preenchimento por média/mediana/moda, ou outros métodos).\n",
        "  > - Como você planeja tratar variáveis categóricas? (Ex.: one-hot encoding, label encoding, ou outra estratégia)."
      ],
      "metadata": {
        "id": "2MEVxUBgog5X"
      }
    },
    {
      "cell_type": "code",
      "source": [
        "# TODO: Carregue e pré-processe (limpeza e preparação) os dados\n",
        "\n",
        "# import numpy as np\n",
        "# import pandas as pd\n",
        "# import matplotlib.pyplot as plt\n",
        "# import seaborn as sns\n",
        "# %matplotlib inline\n",
        "\n",
        "# df = pd.read_csv(\"train_data.csv\")"
      ],
      "metadata": {
        "id": "vAYdbNw3ZbfM"
      },
      "execution_count": null,
      "outputs": []
    },
    {
      "cell_type": "markdown",
      "source": [
        "2. (0,5 pontos) Faça uma análise exploratória de dados.\n",
        "\n",
        "  > Procure entender como os dados se comportam e as relações entre diferentes *features*.\n",
        "  >\n",
        "  > **Alguns fatores a serem considerados:** Quais as distribuição dos valores de cada atributos? Como é a correlação entre os diferentes atributos? Existe multicolinearidade entre algumas *features*?"
      ],
      "metadata": {
        "id": "q9g6NrF5PYGH"
      }
    },
    {
      "cell_type": "code",
      "source": [
        "# TODO: Análise exploratória dos dados"
      ],
      "metadata": {
        "id": "CXYY_Il5SwPM"
      },
      "execution_count": null,
      "outputs": []
    },
    {
      "cell_type": "markdown",
      "source": [
        "3. (0,1 pontos) Divida o seu conjunto de treinamento em dois conjuntos: treinamento e validação. A proporção de divisão pode ser escolhida, mas pense no impacto que isso pode resultar em seu modelo.\n",
        "\n",
        "  > **Dica:** Defina uma *seed* para seus resultados serem reprodutíveis."
      ],
      "metadata": {
        "id": "B-Ysk9JgSVV1"
      }
    },
    {
      "cell_type": "code",
      "source": [
        "# TODO: Divisão de treinamento e validação"
      ],
      "metadata": {
        "id": "QNVOf2jqSy75"
      },
      "execution_count": null,
      "outputs": []
    },
    {
      "cell_type": "markdown",
      "source": [
        "## Regressão Linear\n",
        "\n",
        "Esta parte do trabalho visa prever o valor do salário dos profissionais, descrita pelo atributo `salario`, com base em seus dados demográficos e informações de carreira.\n",
        "\n",
        "O atributo alvo nesta etapa é o atributo `salario`. Portanto, não utilize os atributos `salario` e `faixa_salarial` como *features* dos seus modelos, apenas para o cálculo da função de custo durante o treinamento e a validação."
      ],
      "metadata": {
        "id": "OMdH9asLG1cP"
      }
    },
    {
      "cell_type": "markdown",
      "source": [
        "### Atividades"
      ],
      "metadata": {
        "id": "9Ta_WZ-NTs_H"
      }
    },
    {
      "cell_type": "markdown",
      "source": [
        "1. (0,1 pontos) Faça a seleção das features mais importantes para o treinamento da sua regressão linear, com base em sua análise exploratória."
      ],
      "metadata": {
        "id": "WuwGti_uCEeW"
      }
    },
    {
      "cell_type": "code",
      "source": [
        "#TODO: Seleção de features."
      ],
      "metadata": {
        "id": "NidqvEqdCynt"
      },
      "execution_count": null,
      "outputs": []
    },
    {
      "cell_type": "markdown",
      "source": [
        "2. (1,75 pontos) Implemente e execute a regressão linear.\n",
        "\n",
        "  Faça uma classe `LinearRegression` capaz de encontrar uma regressão utilizando dois métodos: **descida do gradiente** e a **equação normal**.\n",
        "\n",
        "  Para a otimização por **descida do gradiente**, guarde o histórico da função de custo por época e retorno este histórico após a execução do ajuste. Além disso, utilize uma learning rate de `0.01` nesta etapa.\n",
        "\n",
        "  > **Observações:** Inicie randomicamente sua regressão linear e lembre-se de não utilizar dados de teste no treinamento.\n",
        "\n",
        "  Lembre-se que:\n",
        "\n",
        "  > A hipótese da regressão linear é: $ h_\\theta(x) = \\theta^Tx$.\n",
        "  >\n",
        "  > E, o objetivo da regressão linear é minimizar a função de custo Root Mean Squared Error (RMSE):\n",
        "  >\n",
        "  > $$ J(\\theta) = \\frac{1}{2m} \\sum_{i=1}^m (h_\\theta(x^{(i)}) - y^{(i)})^2 $$\n",
        "  >\n",
        "  > Para minimizar o custo $J(\\theta)$, o algoritmo de descida do gradiente realiza uma atualização nos parâmetros do modelo a cada iteração:\n",
        "  >\n",
        "  > $$\\theta_j := \\theta_j - \\alpha \\frac{\\partial}{\\partial\\theta_j}J(\\theta) = \\theta_j - \\alpha \\frac{1}{m} \\sum_{i=1}^m (h_\\theta(x^{(i)}) - y^{(i)})x_j^{(i)} $$\n",
        "  >\n",
        "  > onde $j$ é o índice do parâmetro a ser atualizado (atualizando simultaneamente $\\theta_j$ para todos os $j$) e $\\alpha$ é a taxa de aprendizado."
      ],
      "metadata": {
        "id": "7Qm532KspU62"
      }
    },
    {
      "cell_type": "code",
      "source": [
        "# TODO: Regressão Linear. Implemente sua solução. Você não pode usar bibliotecas como scikit-learn, Keras/TensorFlow, ou PyTorch."
      ],
      "metadata": {
        "id": "cqm7NQgPR0qb"
      },
      "execution_count": null,
      "outputs": []
    },
    {
      "cell_type": "markdown",
      "source": [
        "> **Quais foram suas conclusões? (1-2 parágrafos)**\n",
        "\n",
        "\n"
      ],
      "metadata": {
        "id": "Gv793QDpphiy"
      }
    },
    {
      "cell_type": "markdown",
      "source": [
        "*Escreva as conclusões aqui.*"
      ],
      "metadata": {
        "id": "C7XLrOGh0mZk"
      }
    },
    {
      "cell_type": "markdown",
      "source": [
        "3. (0,75 pontos) Experimente diferentes valores de *learning rates* para a descida de gradiente (GD). Plote o histórico da função de custo (função de custo vs. número de épocas) no conjunto de treinamento e no de validação para cada experimento.\n",
        "\n"
      ],
      "metadata": {
        "id": "LgjRms76qrOC"
      }
    },
    {
      "cell_type": "code",
      "source": [
        "# TODO: Descida do gradiente (GD) com 3 diferentes learning rates."
      ],
      "metadata": {
        "id": "anpVxB7KqtEh"
      },
      "execution_count": null,
      "outputs": []
    },
    {
      "cell_type": "markdown",
      "source": [
        "> **Quais foram suas conclusões? (1-2 parágrafos)**\n",
        "\n",
        "\n"
      ],
      "metadata": {
        "id": "foOoNz2Zqv-V"
      }
    },
    {
      "cell_type": "markdown",
      "source": [
        "*Escreva as conclusões aqui.*"
      ],
      "metadata": {
        "id": "QDpw-kRJ0gPC"
      }
    },
    {
      "cell_type": "markdown",
      "source": [
        " 4. (0,25 pontos) Compare o seu melhor experimento baseado em GD com a sua implementação da equação normal."
      ],
      "metadata": {
        "id": "6ZvPyHW6qYgb"
      }
    },
    {
      "cell_type": "code",
      "source": [
        "# TODO: Compare as implementações"
      ],
      "metadata": {
        "id": "V8h4U1hXqYCw"
      },
      "execution_count": null,
      "outputs": []
    },
    {
      "cell_type": "markdown",
      "source": [
        "> **Quais foram suas conclusões? (1-2 parágrafos)**\n",
        "\n",
        "\n"
      ],
      "metadata": {
        "id": "pOh6ImHZqc5_"
      }
    },
    {
      "cell_type": "markdown",
      "source": [
        "*Escreva as conclusões aqui.*"
      ],
      "metadata": {
        "id": "RXwdaerm0dd9"
      }
    },
    {
      "cell_type": "markdown",
      "source": [
        "5. (1,25 pontos) Implementa e execute duas regressões lineares utilizando sklearn:\n",
        "\n",
        "  1. Execute uma regressão com `sklearn.linear_model.SGDRegressor`, que utiliza descida do gradiente minimizando uma função de custo regularizada.\n",
        "  2. Execute uma regressão com `sklearn.linear_model.LinearRegression`, que utiliza o método da equação normal.\n",
        "\n",
        "  Compare os resultados obtidos com as suas implementações (de GD e da equação normal).\n",
        "\n",
        "  Ou seja, compare o `sklearn.linear_model.SGDRegressor` com a sua implementação da descida do gradiente e o `sklearn.linear_model.LinearRegression` com a sua implementação da equação normal.\n",
        "\n",
        "  > **Observação:** Utilize uma learning rate igual a algum dos experimentos que já fez para realizar uma comparação justa.\n"
      ],
      "metadata": {
        "id": "33HfVM3JA9ig"
      }
    },
    {
      "cell_type": "code",
      "source": [
        "# TODO: Regressão Linear. Faça a regressão novamente, agora utilizando o sklearn.linear_model.SGDRegressor e sklearn.linear_model.LinearRegression."
      ],
      "metadata": {
        "id": "kxxmoHS3pX09"
      },
      "execution_count": null,
      "outputs": []
    },
    {
      "cell_type": "markdown",
      "source": [
        "> **Quais foram suas conclusões? (1-2 parágrafos)**\n",
        "\n",
        "\n"
      ],
      "metadata": {
        "id": "3KeQR7FfqmZq"
      }
    },
    {
      "cell_type": "markdown",
      "source": [
        "*Escreva as conclusões aqui.*"
      ],
      "metadata": {
        "id": "BoYlktBm0V4S"
      }
    },
    {
      "cell_type": "markdown",
      "source": [
        "6. (0,4 ponto) Às vezes, precisamos de alguma função mais complexa para fazer uma boa predição. Elabore e avalie um modelo de Regressão Polinomial."
      ],
      "metadata": {
        "id": "gOAUyNNNqgtD"
      }
    },
    {
      "cell_type": "code",
      "source": [
        "# TODO: Regressão polinomial. Está liberado utilizar scikit-learn."
      ],
      "metadata": {
        "id": "A6lBNyOkqhcT"
      },
      "execution_count": null,
      "outputs": []
    },
    {
      "cell_type": "markdown",
      "source": [
        "> **Quais foram suas conclusões? (1-2 parágrafos)**\n",
        "\n",
        "\n"
      ],
      "metadata": {
        "id": "Z_iBTv0fBLg4"
      }
    },
    {
      "cell_type": "markdown",
      "source": [
        "*Escreva as conclusões aqui.*"
      ],
      "metadata": {
        "id": "jtfjg_zQ0QQ8"
      }
    },
    {
      "cell_type": "markdown",
      "source": [
        "## Regressão Logística\n",
        "\n",
        "Esta parte do trabalho visa prever a faixa salarial dos profissionais, descrita pelo atributo `faixa_salarial`, com base em seus dados demográficos e informações de carreira. Portanto, não utilize os atributos `salario` e `faixa_salarial` como *features* dos seus modelos, apenas para o cálculo da função de custo durante o treinamento e a validação."
      ],
      "metadata": {
        "id": "coV5ojoNTyk8"
      }
    },
    {
      "cell_type": "markdown",
      "source": [
        "### Atividades"
      ],
      "metadata": {
        "id": "ep0MimhsT13j"
      }
    },
    {
      "cell_type": "markdown",
      "source": [
        "1. (0,1 pontos) Faça a seleção das features mais importantes para o treinamento da sua regressão logística, com base em sua análise exploratória."
      ],
      "metadata": {
        "id": "48rUllHFHIhS"
      }
    },
    {
      "cell_type": "code",
      "source": [
        "# TODO: Selecione de features."
      ],
      "metadata": {
        "id": "japzGknMHSgr"
      },
      "execution_count": null,
      "outputs": []
    },
    {
      "cell_type": "markdown",
      "source": [
        "2. (1,0 pontos) Faça uma Regressão Logística Multinomial. Ela é uma generalização da Regressão Logística para o caso em que queremos lidar com várias classes.\n",
        "\n",
        "    Use a classe `sklearn.linear_model.SGDClassifier`, passando o parâmetro `loss=\"log_loss\"` no construtor, para criar uma Regressão Logística a ser otimizada por descida do gradiente.\n",
        "\n",
        "    Experimente diferentes valores de learning rate e avalie o impacto desse hiperparâmetro no treinamento do modelo."
      ],
      "metadata": {
        "id": "IJDQbA07p8NP"
      }
    },
    {
      "cell_type": "code",
      "source": [
        "# TODO: Regressão logística multinomial. Utilize a classe sklearn.linear_model.SGDClassifier do scikit-learn."
      ],
      "metadata": {
        "id": "2owJ2ALcp9dv"
      },
      "execution_count": null,
      "outputs": []
    },
    {
      "cell_type": "markdown",
      "source": [
        "> **Quais foram suas conclusões? (1-2 parágrafos)**\n",
        "\n",
        "\n"
      ],
      "metadata": {
        "id": "ma81yFo5qAzB"
      }
    },
    {
      "cell_type": "markdown",
      "source": [
        "*Escreva as conclusões aqui.*"
      ],
      "metadata": {
        "id": "FgICWg8N0Ajq"
      }
    },
    {
      "cell_type": "markdown",
      "source": [
        "3. (0,75 ponto) Faça um gráfico da função de custo vs. número de épocas, em relação ao conjunto de treinamento e ao conjunto de validação. Também faça um gráfico, de mesma estrutura, descrevendo a acurácia vs. número de época.\n",
        "\n",
        "    Como é o comportamento do modelo? O modelo está aprendendo?"
      ],
      "metadata": {
        "id": "CkAZORziqKFf"
      }
    },
    {
      "cell_type": "code",
      "source": [
        "# TODO: Plote os gráficos de loss / acurácia vs. número de épocas. Você pode usar as bibliotecas scikit-learn, seaborn, matplotlib, etc."
      ],
      "metadata": {
        "id": "0JL3hPmzqG8x"
      },
      "execution_count": null,
      "outputs": []
    },
    {
      "cell_type": "markdown",
      "source": [
        "> **Quais foram suas conclusões? (1-2 parágrafos)**\n",
        "\n",
        "\n"
      ],
      "metadata": {
        "id": "5XUwX1lfqHMs"
      }
    },
    {
      "cell_type": "markdown",
      "source": [
        "*Escreva as conclusões aqui.*"
      ],
      "metadata": {
        "id": "QCpnhE-Zz67p"
      }
    },
    {
      "cell_type": "markdown",
      "source": [
        "4. (0,9 pontos) Faça pelo menos 2 gráficos que visualizem as fronteiras de decisão entre duas *features*. Por exemplo, você pode fazer um gráfico da fronteira de decisão entre os atributos `tempo_exp_dados` e `satisfacao_empresa`, caso tenha utilizado essas *features*. Verifique se está fazendo o plot para atributos relevantes utilizados em seu modelo.\n",
        "\n",
        "    > **Observação:** [Este tutorial](https://scikit-learn.org/stable/auto_examples/linear_model/plot_sgd_iris.html#sphx-glr-auto-examples-linear-model-plot-sgd-iris-py) do scikit-learn demonstra como extrair essas informações do `sklearn.linear_model.SGDClassifier`."
      ],
      "metadata": {
        "id": "TGPyK3g4H2TQ"
      }
    },
    {
      "cell_type": "code",
      "source": [
        "# TODO: Faça a visualização das fronteiras de decisão. Você pode usar as bibliotecas scikit-learn, seaborn, matplotlib, etc."
      ],
      "metadata": {
        "id": "NtTP4Vg7H-7a"
      },
      "execution_count": null,
      "outputs": []
    },
    {
      "cell_type": "markdown",
      "source": [
        "> **Quais foram suas conclusões? (1-2 parágrafos)**\n",
        "\n",
        "\n"
      ],
      "metadata": {
        "id": "luQyukihISLS"
      }
    },
    {
      "cell_type": "markdown",
      "source": [
        "*Escreva as conclusões aqui.*"
      ],
      "metadata": {
        "id": "AKB4Vdv5zkti"
      }
    },
    {
      "cell_type": "markdown",
      "source": [
        "5. (0,75 pontos) Avalie os resultados do seu modelo, utilizando métricas de classificação que achar relevante. Plote a matriz de confusão e analise os resultados."
      ],
      "metadata": {
        "id": "OfPu60KZIAy2"
      }
    },
    {
      "cell_type": "code",
      "source": [
        "# TODO: Avalie o seu modelo de classificação. Você pode usar as bibliotecas scikit-learn, seaborn, matplotlib, etc."
      ],
      "metadata": {
        "id": "xiVe5lFGIO0P"
      },
      "execution_count": null,
      "outputs": []
    },
    {
      "cell_type": "markdown",
      "source": [
        "> **Quais foram suas conclusões? (1-2 parágrafos)**\n"
      ],
      "metadata": {
        "id": "dV2pjLS7IN-B"
      }
    },
    {
      "cell_type": "markdown",
      "source": [
        "*Escreva as conclusões aqui.*"
      ],
      "metadata": {
        "id": "bNm-2hQf04RI"
      }
    },
    {
      "cell_type": "markdown",
      "source": [
        "## Submissão dos resultados no Kaggle"
      ],
      "metadata": {
        "id": "WN80wF3zbN11"
      }
    },
    {
      "cell_type": "markdown",
      "source": [
        "Para avaliar o desempenho do seu modelo, você deve submeter suas predições, no conjunto de teste, na competição [Tarefa #2 de MC886/MO444 2024S2](https://www.kaggle.com/t/20fa042c08f5453abd89d946468bd3de) do Kaggle.\n",
        "\n",
        "A plataforma calculará automaticamente a métrica de avaliação e fornecerá um score.\n",
        "\n",
        "> **Observação:** Não se preocupe apenas com o resultado do seu modelo. O seu score no placar não irá influenciar a sua nota nesta atividade :)."
      ],
      "metadata": {
        "id": "Fjz08E4Bcvc6"
      }
    },
    {
      "cell_type": "markdown",
      "source": [
        "### Atividades"
      ],
      "metadata": {
        "id": "qgoUIadmbqVf"
      }
    },
    {
      "cell_type": "markdown",
      "source": [
        "1. (1,0 pontos) Escolha **seus melhores modelos** para as duas tarefas feitas (regressão e classificação) e faça a predição dos atributos `salario` e `faixa_salarial` com base nos dados da pesquisa contidos no **conjunto de teste**.\n",
        "\n",
        "  Para regressão: **Gere um arquivo de submissão, de tipo CSV, no formato adequado:** Gere uma linha por pessoa no conjunto de teste, com uma coluna para os valores preditos, que devem estar nomeadas como **`salario`**.\n",
        "\n",
        "  > Exemplo de arquivo (com o cabeçalho e conteúdo formatados):\n",
        "  > ```\n",
        "  > id, salario\n",
        "  > 1, 0.0\n",
        "  > 2, 0.0\n",
        "  > 3, 0.0\n",
        "  > ```\n",
        "\n",
        "  Submeta suas predições na competição [Regressão Linear - Tarefa #2 de MC886/MO444 2024S2](https://www.kaggle.com/t/20fa042c08f5453abd89d946468bd3de) no Kaggle.\n",
        "  \n",
        "  Para classificação: **Gere um arquivo de submissão, de tipo CSV, no formato adequado:** Gere uma linha por pessoa no conjunto de teste, com uma coluna para os valores preditos, que devem estar nomeadas como **`faixa_salarial`**.\n",
        "\n",
        "  > Exemplo de arquivo (com o cabeçalho e conteúdo formatados):\n",
        "  > ```\n",
        "  > id, faixa_salarial\n",
        "  > 1, \"de R$ 0/mês a R$ 0/mês\"\n",
        "  > 2, \"de R$ 0/mês a R$ 0/mês\"\n",
        "  > 3, \"de R$ 0/mês a R$ 0/mês\"\n",
        "  > ```\n",
        "\n",
        "  Submeta suas predições na competição [Reg. Logística - Tarefa #2 de MC886/MO444 2024S2](https://www.kaggle.com/t/28213ca2f99d40afbc48ab36eb5d6cf8) no Kaggle.\n",
        "\n",
        "  Conte para a gente! Qual foi o resultado que você obteve na competição? :)"
      ],
      "metadata": {
        "id": "-8WM1UJkSe1n"
      }
    },
    {
      "cell_type": "markdown",
      "source": [
        "*Conte aqui :)*"
      ],
      "metadata": {
        "id": "eqrdxXuR08Xu"
      }
    },
    {
      "cell_type": "markdown",
      "source": [
        "## Prazo\n",
        "\n",
        "09 de outubro, quarta-feira, 23:59.\n",
        "\n",
        "Política de penalidade para submissões atrasadas: Você não está sendo encorajada(o) a submeter o trabalho depois da data de submissão. Entretanto, caso isso aconteça, a nota será penalizada da seguinte forma:\n",
        "- 10 de outubro, 23:59: nota * 0,75\n",
        "- 11 de outubro, 23:59: nota * 0,5\n",
        "- 12 de outubro, 23:59: nota * 0,25\n",
        "\n",
        "\n",
        "## Envio\n",
        "\n",
        "No Google Classroom, envie seu Jupyter Notebook, no formato RA1_RA2_2024s2_mc886mo444_tarefa_02.ipynb.\n",
        "\n",
        "**Esta atividade NÃO é individual, deve ser realizada em dupla (grupo de duas pessoas).**\n"
      ],
      "metadata": {
        "id": "wOT_icxXR1BY"
      }
    }
  ]
}