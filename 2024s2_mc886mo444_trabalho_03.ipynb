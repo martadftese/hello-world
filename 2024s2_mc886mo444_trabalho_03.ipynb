{
  "cells": [
    {
      "cell_type": "markdown",
      "metadata": {
        "id": "view-in-github",
        "colab_type": "text"
      },
      "source": [
        "<a href=\"https://colab.research.google.com/github/martadftese/hello-world/blob/master/2024s2_mc886mo444_trabalho_03.ipynb\" target=\"_parent\"><img src=\"https://colab.research.google.com/assets/colab-badge.svg\" alt=\"Open In Colab\"/></a>"
      ]
    },
    {
      "cell_type": "markdown",
      "metadata": {
        "id": "zERz0b9tFS0L"
      },
      "source": [
        "# **Trabalho \\#3**:  Aprendizado de Máquina e Reconhecimento de Padrões MC886/MO444\n",
        "Instituto de Computação (IC/UNICAMP), 2ᵒ Semestre, 2024\n",
        "\n",
        "Profa. Sandra Avila, 2024s2\n",
        "\n",
        "Trabalho proposto por Caio Petrucci Rosa (PAD), Cesar Guedes Carneiro (PED) e Sandra Avila.\n",
        "\n"
      ]
    },
    {
      "cell_type": "code",
      "execution_count": null,
      "metadata": {
        "id": "DHI3b2gMFUu_"
      },
      "outputs": [],
      "source": [
        "# TODO: RA & Nome\n",
        "print('RA 1: ' + 'Nome_Completo_1')\n",
        "print('RA 2: ' + 'Nome_Completo_2')"
      ]
    },
    {
      "cell_type": "markdown",
      "metadata": {
        "id": "5v4SESncFWNU"
      },
      "source": [
        "## Objetivo\n",
        "\n",
        "Explore **redes neurais** e desenvolva o melhor modelo possível para o problema, evitando *overfitting*. Em particular, construa um sistema de reconhecimento de objetos para classificar imagens usando a base de dados OrganCMNIST.\n",
        "\n",
        "Nesta atividade, você não tem permissão para usar frameworks de redes neurais (por exemplo, Pytorch, Tensorflow, Keras), exceto funções básicas, como Dataloaders, que já estão especificadas nas células de código. Você deve implementar os métodos necessários usando NumPy. Além disso, você pode usar scikit-learn (ou bibliotecas similares) para calcular métricas de avaliação, e todas as bibliotecas de plotagem de gráficos também são permitidas.\n",
        "\n",
        "Criamos uma verificação de integridade (*sanity check*, teste de sanidade) para todos os métodos que você precisa implementar, para que você possa verificar se o comportamento geral do seu algoritmo está correto. No entanto, isso não garante que sua implementação esteja correta, já que, infelizmente, depurar modelos de redes neurais não é uma tarefa simples."
      ]
    },
    {
      "cell_type": "markdown",
      "metadata": {
        "id": "wOT_icxXR1BY"
      },
      "source": [
        "---\n",
        "\n",
        "## Prazo\n",
        "\n",
        "**Prazo de entrega:** 06 de Novembro, quarta-feira, 23:59.\n",
        "\n",
        "**Política de penalidades por envio atrasado:** Você não está sendo encorajada(o) a submeter o trabalho após a data de submissão. Entretanto, caso isso aconteça, a nota será penalizada da seguinte forma:\n",
        "- 07 de Novembro, 23:59: nota * 0,75\n",
        "- 08 de Novembro, 23:59: nota * 0,5\n",
        "- 09 de Novembro, 23:59: nota * 0,25\n",
        "\n",
        "## Envio\n",
        "\n",
        "No Google Classroom, envie seu Jupyter Notebook, no formato `RA1_RA2_2024s2_mc886mo444_trabalho_03.ipynb`.\n",
        "\n",
        "**Esta atividade NÃO é individual, deve ser realizada em dupla (grupo de duas pessoas).**"
      ]
    },
    {
      "cell_type": "markdown",
      "metadata": {
        "id": "1RCjvuScLbjg"
      },
      "source": [
        "---\n",
        "\n",
        "## 1. Base de Dados"
      ]
    },
    {
      "cell_type": "markdown",
      "metadata": {
        "id": "qp3ffmkzGrVw"
      },
      "source": [
        "O OrganCMNIST é um dos conjuntos de dados de imagem do [MedMNIST](https://medmnist.com/), derivado de imagens de tomografia computadorizada (CT) 3D do *Liver Tumor Segmentation Benchmark* (LiTS). O conjunto de dados contém fatias 2D recortadas das vistas coronais das imagens 3D originais, focando em 11 órgãos do corpo. As anotações de caixas delimitadoras (*bounding boxes*) de um estudo separado são usadas para obter os rótulos dos órgãos. As Unidades Hounsfield (HU) das tomografias são transformadas em tons de cinza utilizando uma janela abdominal, e cada imagem é redimensionada para 1x28x28 pixels para facilitar a classificação multi-classe.\n",
        "\n",
        "O OrganCMNIST inclui um total de 23.583 imagens organizadas em 11 classes. O conjunto de dados é dividido em:\n",
        "* 12.975 exemplos de treinamento,\n",
        "* 2.392 exemplos de validação, e\n",
        "* 8.216 exemplos de teste.\n",
        "\n",
        "Cada exemplo é uma imagem em escala de cinza (1x28x28) associada a um rótulo de uma das 11 classes de órgãos.\n",
        "\n",
        "Cada exemplo é atribuído a um dos seguintes rótulos:\n",
        "\n",
        "| ID da Classe | Órgão | # Imagens | % |\n",
        "|:---:|:---|---:|---:|\n",
        "| 0 | bladder (bexiga) | 2167 | 9,19 |\n",
        "| 1 | femur-left (fêmur-esquerdo) | 1152 | 4,88 |\n",
        "| 2 | femur-right (fêmur-direito) | 1112 | 4,72 |\n",
        "| 3 | heart (coração) | 1223 | 5,19 |\n",
        "| 4 | kidney-left (rim-esquerdo) | 1947 | 8,26 |\n",
        "| 5 | kidney-right (rim-direito) | 2062 | 8,74 |\n",
        "| 6 | liver (fígado) | 5250 | 22,26 |\n",
        "| 7 | lung-left (pulmão-esquerdo) | 1898 | 8,05 |\n",
        "| 8 | lung-right (pulmão-direito) | 1931 | 8,19 |\n",
        "| 9 | pancreas (pâncreas) | 2102 | 8,91 |\n",
        "| 10 | spleen (baço) | 2739 | 11,61 |\n",
        "\n",
        "Esta base de dados oferece uma representação simplificada dos órgãos abdominais, tornando-o adequado para tarefas de classificação multi-classe em pesquisas de imagens médicas.\n",
        "\n",
        "#### **Informações sobre a base de dados**\n",
        "\n",
        "- Os dados estão disponíveis no Google Sala de Aula (Classroom) junto a atividade.\n",
        "- Você deve respeitar a divisão de treino/validação/teste disponibilizada no Google Sala de Aula (Classroom). Evite *overfitting*.\n",
        "- Você deve avaliar os modelos usando **balanced accuracy** ou **AUC**. Utilizaremos a **balanced accuracy** na submissão do Kaggle."
      ]
    },
    {
      "cell_type": "code",
      "execution_count": null,
      "metadata": {
        "id": "AWsCEEGAtBdt"
      },
      "outputs": [],
      "source": [
        "from typing import List\n",
        "from abc import ABC,abstractmethod\n",
        "from torch.utils.data import Dataset, DataLoader\n",
        "import torch\n",
        "\n",
        "import matplotlib.pyplot as plt\n",
        "import numpy as np\n",
        "import tqdm"
      ]
    },
    {
      "cell_type": "code",
      "execution_count": null,
      "metadata": {
        "id": "TLV909Pquifq"
      },
      "outputs": [],
      "source": [
        "# prepara os dados usando o Dataloader do Pytorch\n",
        "\n",
        "class OrganCMNIST(Dataset):\n",
        "    def __init__(self, x, y=None, transform=None):\n",
        "        self._x = x\n",
        "        self._y = y.squeeze() if y is not None else None\n",
        "        self._transform = transform\n",
        "\n",
        "    def __len__(self):\n",
        "        return self._x.shape[0]\n",
        "\n",
        "    def __getitem__(self, idx):\n",
        "        image = self._x[idx]\n",
        "        if self._transform is not None:\n",
        "            image = self._transform(image)\n",
        "\n",
        "        image = image.flatten()\n",
        "        if self._y is None:\n",
        "            return image\n",
        "\n",
        "        # one hot encoding\n",
        "        label = [0] * 8\n",
        "        label[self._y[idx]] = 1\n",
        "        return image, torch.Tensor(label)"
      ]
    },
    {
      "cell_type": "code",
      "execution_count": null,
      "metadata": {
        "id": "bcRscA80DV7R"
      },
      "outputs": [],
      "source": [
        "# um exemplo de uma função de normalização, você pode implementar outra caso ache necessário\n",
        "\n",
        "def normalize(X):\n",
        "    return (X - X.mean())/(X.std() + 1e-8)"
      ]
    },
    {
      "cell_type": "markdown",
      "metadata": {
        "id": "VXjfFT-8M40G"
      },
      "source": [
        "#### **Carregando os dados**"
      ]
    },
    {
      "cell_type": "code",
      "execution_count": null,
      "metadata": {
        "id": "bse12MxbDxzs"
      },
      "outputs": [],
      "source": [
        "# defina o caminho para o dataset adequadamente\n",
        "dataset_path = 'data.npz'\n",
        "organcmnist = np.load(dataset_path)\n",
        "\n",
        "x_train, y_train = organcmnist['train_images'], organcmnist['train_labels']\n",
        "x_val, y_val = organcmnist['val_images'], organcmnist['val_labels']\n",
        "\n",
        "# você não terá acesso à label do conjunto de teste\n",
        "x_test = organcmnist['test_images']"
      ]
    },
    {
      "cell_type": "code",
      "execution_count": null,
      "metadata": {
        "id": "f3_DJN6y6aub"
      },
      "outputs": [],
      "source": [
        "train_set = OrganCMNIST(x_train, y_train, transform=normalize)\n",
        "val_set = OrganCMNIST(x_val, y_val, transform=normalize)\n",
        "test_set = OrganCMNIST(x_test, transform=normalize)\n",
        "\n",
        "train_loader = DataLoader(train_set, batch_size=100, shuffle=True)\n",
        "val_loader = DataLoader(val_set, batch_size=32)\n",
        "test_loader = DataLoader(test_set, batch_size=32)"
      ]
    },
    {
      "cell_type": "markdown",
      "metadata": {
        "id": "cTpR9emD8hzj"
      },
      "source": [
        "## 2. Implementação do *Framework*"
      ]
    },
    {
      "cell_type": "markdown",
      "metadata": {
        "id": "IzD8ghGGALxq"
      },
      "source": [
        "#### **Funções de ativação e funções de perda**\n",
        "\n",
        "As funções de ativação são componentes essenciais de uma rede neural. Portanto, explore diferentes funções de ativação em seus modelos e analise as diferenças nos resultados. Além disso, implemente a função de perda *cross-entropy* e use-a como sua função de perda, já que você está trabalhando em um problema de classificação multiclasse.\n",
        "\n",
        "Implemente, no local indicado, as seguintes funções:\n",
        "\n",
        "* Softmax (o gradiente já está implementado);\n",
        "* Cross-Entropy (o gradiente já está implementado);\n",
        "* Uma função de ativação de sua preferência, bem como seu gradiente. Ela deve ser uma subclasse de ``BaseFunction``. (Para referência, leia este [post no blog](https://dwaithe.github.io/blog_20170508.html).)"
      ]
    },
    {
      "cell_type": "code",
      "execution_count": null,
      "metadata": {
        "id": "wCX2Rkx0DrUx"
      },
      "outputs": [],
      "source": [
        "class BaseFunction(ABC):\n",
        "    @abstractmethod\n",
        "    def __call__(self, X):\n",
        "        pass\n",
        "\n",
        "    @abstractmethod\n",
        "    def grad(self, X):\n",
        "        pass\n",
        "\n",
        "\n",
        "class ReLU(BaseFunction):\n",
        "    def __call__(self, X):\n",
        "        return np.maximum(np.zeros_like(X), X)\n",
        "\n",
        "    def grad(self, X):\n",
        "        return np.where(X >= 0, 1, 0)\n",
        "\n",
        "########################################################\n",
        "# TODO: implemente aqui uma outra função de ativação\n",
        "#\n",
        "# Examplo:\n",
        "#\n",
        "# class Activation(BaseFunction):\n",
        "#     def __call__(self, X):\n",
        "#         return ...\n",
        "#\n",
        "#     def grad(self, X):\n",
        "#         return ...\n",
        "#\n",
        "########################################################\n",
        "\n",
        "class Softmax(BaseFunction):\n",
        "    def __call__(self, X):\n",
        "        \"\"\"\n",
        "        Arguments:\n",
        "        X: (np.array) input data\n",
        "\n",
        "        Return:\n",
        "        Softmax output\n",
        "        \"\"\"\n",
        "        ##################################\n",
        "        # TODO: implemente aqui o Softmax\n",
        "        ##################################\n",
        "        pass\n",
        "\n",
        "    def grad(self, X):\n",
        "        return 1 # descarte esse gradiente\n",
        "\n",
        "\n",
        "class CrossEntropy(BaseFunction):\n",
        "    def __call__(self, Y, Y_pred):\n",
        "        \"\"\"\n",
        "        Arguments:\n",
        "        Y: (np.array) ground-truth labels\n",
        "        Y_pred: (np.array) predicted labels\n",
        "\n",
        "        Return:\n",
        "        Cross-Entropy output\n",
        "        \"\"\"\n",
        "        ##################################\n",
        "        # TODO: implemente aqui a Cross-Entropy\n",
        "        ##################################\n",
        "        pass\n",
        "\n",
        "    def grad(self, Y, Y_pred):\n",
        "        return Y_pred - Y # gradiente em relação ao input do Softmax"
      ]
    },
    {
      "cell_type": "markdown",
      "metadata": {
        "id": "ojqHBDRYo_fO"
      },
      "source": [
        "**Verificação de integridade (*sanity check*)**"
      ]
    },
    {
      "cell_type": "code",
      "execution_count": null,
      "metadata": {
        "id": "G5Vjhm43ea_3"
      },
      "outputs": [],
      "source": [
        "######## checando o Softmax ########\n",
        "\n",
        "s = Softmax()\n",
        "x = np.array([[0,0],\n",
        "              [1,2],\n",
        "              [-3,2]])\n",
        "\n",
        "expected_softmax = np.array([[0.5       , 0.5       ],\n",
        "                             [0.26894142, 0.73105858],\n",
        "                             [0.00669285, 0.99330715]])\n",
        "result_softmax = s(x)\n",
        "assert (abs(result_softmax - expected_softmax) < 1e-8).all(), f\"Expected result for softmax is {expected_softmax}, but it returns {result_softmax}\""
      ]
    },
    {
      "cell_type": "code",
      "execution_count": null,
      "metadata": {
        "id": "DZ4VRWYicf-y"
      },
      "outputs": [],
      "source": [
        "######## checando a CrossEntropy ########\n",
        "\n",
        "Y = np.array([[0, 1, 1],\n",
        "              [1, 0, 0]])\n",
        "\n",
        "Y_pred = np.array([[0, 1, 1],\n",
        "                   [0.7, 0, 0.3],])\n",
        "\n",
        "\n",
        "expected_ce = 0.1783374548265092\n",
        "cross_entropy = CrossEntropy()\n",
        "ce_result = cross_entropy(Y, Y_pred)\n",
        "assert abs(ce_result - expected_ce) < 1e-8, f\"Expected result for cross entropy is {expected_ce}, but it returns {ce_result}\"\n",
        "\n",
        "expected_grad = np.array([[ 0. ,  0. ,  0. ],\n",
        "                          [-0.3,  0. ,  0.3]])\n",
        "grad = cross_entropy.grad(Y, Y_pred)\n",
        "assert (abs(grad - expected_grad) < 1e-8).all(), f\"Expected result for cross entropy gradient is {expected_grad}, but it returns {grad}\""
      ]
    },
    {
      "cell_type": "markdown",
      "metadata": {
        "id": "cQz2mw_zmmby"
      },
      "source": [
        "#### **Modelo de rede neural**\n",
        "\n",
        "Em uma rede neural, as previsões são feitas usando um algoritmo chamado *feedforward*, também conhecido como a etapa de avanço. Portanto, você deve implementar este método para fazer previsões usando seus modelos.\n",
        "\n",
        "Além disso, é fundamental inicializar os pesos da rede corretamente para garantir um modelo de melhor desempenho. Caso contrário, pode ocorrer o problema do gradiente que desaparece (*vanishing gradient*) ou explode (*exploding gradient*). Portanto, experimente diferentes técnicas de inicialização de pesos e veja o que acontece. Nós já implementamos a inicialização normal aleatória e a inicialização de [He et al.](https://openaccess.thecvf.com/content_iccv_2015/papers/He_Delving_Deep_into_ICCV_2015_paper.pdf) para você :D\n",
        "\n",
        "Implemente, no local indicado, os seguintes métodos:\n",
        "\n",
        "* *Feedforward*, também conhecido como *forward pass*;\n",
        "* Um método de inicialização de pesos de sua escolha. Para referência, leia este [post no blog](https://www.geeksforgeeks.org/weight-initialization-techniques-for-deep-neural-networks/).\n",
        "\n",
        "**Observação:** Note que as matrizes de pesos $W$ na rede são construídas de modo que $w^{l}_{i,j}$ seja o peso que conecta o $i$-ésimo neurônio na camada $l$ à $j$-ésima neurônio na camada seguinte, como ilustrado abaixo."
      ]
    },
    {
      "cell_type": "markdown",
      "metadata": {
        "id": "Dp4T4Hp4AJdp"
      },
      "source": [
        "![image.png](data:image/png;base64,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)"
      ]
    },
    {
      "cell_type": "markdown",
      "metadata": {
        "id": "n0C_xM92NVFZ"
      },
      "source": [
        "***Feedforward***:\n",
        "\n",
        "Lembre-se que o cálculo do *forward pass* é calculado da seguinte forma:\n",
        "> $a^{(L)} = f_{(L-1)}(z^{(L-1)})$"
      ]
    },
    {
      "cell_type": "code",
      "execution_count": null,
      "metadata": {
        "id": "dS-BjsEsF07T"
      },
      "outputs": [],
      "source": [
        "class Model:\n",
        "    def __init__(self, layers_dims: List[int],\n",
        "                 activation_funcs: List[BaseFunction],\n",
        "                 initialization_method: str = \"random\"):\n",
        "        \"\"\"\n",
        "        Arguments:\n",
        "        layers_dims: (list) a list with the size of each layer\n",
        "        activation_funcs: (list) a list with the activation functions\n",
        "        initialization_method: (str) indicates how to initialize the parameters\n",
        "\n",
        "        Example:\n",
        "\n",
        "        # a model architecture with layers 2 x 1 x 2 and 2 ReLU as activation functions\n",
        "        >>> m = Model([2, 1, 2], [ReLU(), ReLU()])\n",
        "        \"\"\"\n",
        "\n",
        "        assert all([isinstance(d, int) for d in layers_dims]), \\\n",
        "        \"It is expected a list of int to the param ``layers_dims\"\n",
        "\n",
        "        assert all([isinstance(a, BaseFunction) for a in activation_funcs]), \\\n",
        "        \"It is expected a list of BaseFunction to the param ``activation_funcs´´\"\n",
        "\n",
        "        self.layers_dims = layers_dims\n",
        "        self.activation_funcs = activation_funcs\n",
        "        self.weights, self.bias = self.initialize_model(initialization_method)\n",
        "\n",
        "\n",
        "    def __len__(self):\n",
        "        return len(self.weights)\n",
        "\n",
        "\n",
        "    def initialize_model(self, method=\"random\"):\n",
        "        \"\"\"\n",
        "        Arguments:\n",
        "        layers_dims: (list) a list with the size of each layer\n",
        "        method: (str) indicates how to initialize the parameters\n",
        "\n",
        "        Return: a list of matrices (np.array) of weights and a list of\n",
        "        matrices (np.array) of biases.\n",
        "        \"\"\"\n",
        "\n",
        "        weights = []\n",
        "        bias = []\n",
        "        n_layers = len(self.layers_dims)\n",
        "        for l in range(0, n_layers-1):\n",
        "            # os pesos w_i,j conectam o i-ésimo neurônio na camada atual ao\n",
        "            # j-ésimo neuronio na próxima camada\n",
        "            W = np.random.randn(self.layers_dims[l], self.layers_dims[l + 1])\n",
        "            b = np.random.randn(1, self.layers_dims[l + 1])\n",
        "\n",
        "            # He et al. Normal initialization\n",
        "            if method.lower() == 'he':\n",
        "                W = W * np.sqrt(2/self.layers_dims[l])\n",
        "                b = b * np.sqrt(2/self.layers_dims[l])\n",
        "\n",
        "            ###################################################\n",
        "            # TODO: implemente outro método de inicialização\n",
        "            #\n",
        "            # if method.lower() == 'Your Method':\n",
        "            #   ...\n",
        "            ###################################################\n",
        "\n",
        "            weights.append(W)\n",
        "            bias.append(b)\n",
        "\n",
        "        return weights, bias\n",
        "\n",
        "\n",
        "    def forward(self, X):\n",
        "        \"\"\"\n",
        "        Arguments:\n",
        "        X: (np.array) input data\n",
        "\n",
        "        Return:\n",
        "        Predictions for the input data (np.array)\n",
        "        \"\"\"\n",
        "        activation = X\n",
        "        self.activations = [X]\n",
        "        self.Z_list = []\n",
        "        #############################################################################\n",
        "        # TODO: implemente aqui o forward step.\n",
        "        #\n",
        "        # Algumas instruções adicionais:\n",
        "        # Note que os pesos, o bias e as funções de ativação são variáveis da classe,\n",
        "        # então você pode acessá-los via ``self``.\n",
        "        #\n",
        "        # Você deve armazenar a entrada Z de cada função de ativação em ``Z_list``,\n",
        "        # e a saída das funções de ativação em ``activations``. Essas\n",
        "        # informações serão importantes quando você implementar a backward pass.\n",
        "        #############################################################################\n",
        "        pass"
      ]
    },
    {
      "cell_type": "markdown",
      "metadata": {
        "id": "_cDRhYddNjj8"
      },
      "source": [
        "**Verificação de integridade (*sanity check*)**"
      ]
    },
    {
      "cell_type": "code",
      "execution_count": null,
      "metadata": {
        "id": "hdjLnzs3pKwf"
      },
      "outputs": [],
      "source": [
        "######## checando o Forward pass ########\n",
        "\n",
        "# architecture: 2 x 1 x 2\n",
        "m = Model([2, 1, 2], [ReLU(), ReLU()])\n",
        "\n",
        "X = np.array([[0 ,1],\n",
        "              [-1,0]])\n",
        "\n",
        "W1 = np.array([[2],\n",
        "               [1]])\n",
        "b1 = np.array([[1]])\n",
        "W2 = np.array([[2, 3]])\n",
        "b2 = np.array([[1, -1]])\n",
        "\n",
        "m.weights = [W1, W2]\n",
        "m.bias = [b1, b2]\n",
        "\n",
        "expected_prediction = np.array([[5,5],\n",
        "                                [1,0]])\n",
        "\n",
        "expected_Z_list = [np.array([[2],\n",
        "                             [-1]]),\n",
        "                   np.array([[5,5],\n",
        "                             [1,-1]]),]\n",
        "\n",
        "expected_activations = [X,\n",
        "                        np.array([[2],\n",
        "                                  [0]]),\n",
        "                        expected_prediction]\n",
        "\n",
        "#forward pass\n",
        "prediction = m.forward(X)\n",
        "\n",
        "for l, (expected_z, z) in enumerate(zip(expected_Z_list, m.Z_list)):\n",
        "    assert ((z - expected_z) < 1e-8).all(), \\\n",
        "    f\"Forward pass {l}: expected Z list is {expected_z}, but it returns {z}\"\n",
        "\n",
        "for l, (expected_a, a) in enumerate(zip(expected_activations, m.activations)):\n",
        "    assert (abs(a-expected_a) < 1e-8).all(), \\\n",
        "    f\"Forward pass {l}: expected activations are {expected_a}, but it returns {a}\"\n",
        "\n",
        "assert (abs(prediction - expected_prediction) < 1e-8).all(), \\\n",
        "f\"Forward: expected result is {expected_prediction}, but it returns {prediction}\""
      ]
    },
    {
      "cell_type": "markdown",
      "metadata": {
        "id": "-spuRz1vAGWg"
      },
      "source": [
        "#### **Otimizadores**\n",
        "\n",
        "Depois de definir a topologia/arquitetura da sua rede neural, é hora de treiná-la. Para isso, você precisa selecionar um otimizador (por exemplo, SGD, Momentum, Adagrad, Adam, RMSProp) que irá atualizar os pesos da rede.\n",
        "\n",
        "Implemente no local indicado:\n",
        "\n",
        "* *Stochastic Gradient Descent* (SGD);\n",
        "* Outro otimizador de sua preferência. Ele deve ser uma subclasse de ``BaseOptimizer``. Para referência, leia https://www.ruder.io/optimizing-gradient-descent/."
      ]
    },
    {
      "cell_type": "code",
      "execution_count": null,
      "metadata": {
        "id": "0_ht7tTffUOS"
      },
      "outputs": [],
      "source": [
        "class BaseOptimizer(ABC):\n",
        "    def __init__(self, model):\n",
        "        self.model = model\n",
        "\n",
        "    @abstractmethod\n",
        "    def step(self, grads):\n",
        "        \"\"\"\n",
        "        Arguments:\n",
        "        grads: (list)  a list of tuples of matrices (weights' gradient, biases' gradient)\n",
        "        both in np.array format.\n",
        "\n",
        "        Return:\n",
        "        \"\"\"\n",
        "        pass\n",
        "\n",
        "class SGDOptimizer(BaseOptimizer):\n",
        "    def __init__(self, model, lr=1e-3):\n",
        "        self.model = model\n",
        "        self.lr = lr\n",
        "\n",
        "    def step(self, grads: List):\n",
        "        \"\"\"\n",
        "        Arguments:\n",
        "        grads: (list)  a list of tuples of matrices (weights' gradient, biases' gradient)\n",
        "        both in np.array format.\n",
        "\n",
        "        Return:\n",
        "        \"\"\"\n",
        "        ###############################################################\n",
        "        # TODO: implemente o algoritmo de Stochastic Gradient Descent (SGD)\n",
        "        ###############################################################\n",
        "        pass\n",
        "\n",
        "####################################\n",
        "# TODO: implemente outro optimizador\n",
        "####################################"
      ]
    },
    {
      "cell_type": "markdown",
      "metadata": {
        "id": "xe9dfMY6sas-"
      },
      "source": [
        "**Verificação de integridade (*sanity check*)**\n",
        "\n",
        "A verificação de integridade do SGD é colocada após o `Trainer` porque ela utiliza o algoritmo de retropropagação (*backpropagation*) para calcular os gradientes."
      ]
    },
    {
      "cell_type": "markdown",
      "metadata": {
        "id": "e5gQ-c4nAReE"
      },
      "source": [
        "#### **Treinador (Classe `Trainer`)**\n",
        "\n",
        "Um peso $w_{i,j}$ de uma rede neural é atualizado com base no gradiente da função de perda em relação a $w_{i,j}$. Portanto, precisamos calcular o gradiente da função de perda em relação a todos os pesos e vieses em cada camada da rede. Esse processo é chamado de retropropagação (*backpropagation*), também conhecido como etapa de retrocesso.\n",
        "\n",
        "Implemente:\n",
        "* Algoritmo de retropropagação (*backpropagation*).\n",
        "\n",
        "> **Dica:**\n",
        ">\n",
        "> *Use as seguintes equações recursivas para calcular a retropropagação:*\n",
        ">\n",
        "> - $\\frac{\\partial C}{\\partial z^{(L-1)}} = \\frac{\\partial C}{\\partial a^{(L)}} \\cdot \\frac{\\partial a^{(L)}}{\\partial z^{(L-1)}}$\n",
        ">\n",
        "> - $\\frac{\\partial C}{\\partial z^{(L)}} = [\\frac{\\partial C}{\\partial z^{(L+1)}} \\cdot W_{(L+1)}^T] \\odot \\frac{\\partial f_{(L)}}{\\partial z^{(L)}}$\n",
        ">\n",
        "> - $\\frac{\\partial C}{\\partial W^{(L)}} = a^{(L)^T} \\cdot \\frac{\\partial C}{\\partial z^{(L)}}$\n",
        ">\n",
        "> - $\\frac{\\partial C}{\\partial b^{(L)}} = \\frac{\\partial C}{\\partial z^{(L)}}$\n",
        ">\n",
        ">onde $C$ é sua função de custo/perda, $a^{(L)}$ é a saída da última função de ativação, $z_i^{(L)}$ é a i-ésima linha da matriz $z^{(L)}$, e $\\odot$ é o [produto de Hadamard](https://en.wikipedia.org/wiki/Hadamard_product_(matrices)) / produto elemento a elemento."
      ]
    },
    {
      "cell_type": "code",
      "execution_count": null,
      "metadata": {
        "id": "SG5ywyZCXVYA"
      },
      "outputs": [],
      "source": [
        "class Trainer:\n",
        "    def __init__(self, model, optimizer, loss_func):\n",
        "        self.model = model\n",
        "        self.optimizer = optimizer\n",
        "        self.loss_func = loss_func\n",
        "        self.batch_size = 0\n",
        "\n",
        "    def backward(self, Y):\n",
        "        \"\"\"\n",
        "        Arguments:\n",
        "        Y: (np.array) ground truth/label vector.\n",
        "\n",
        "        Return:\n",
        "        A list of tuples of matrices (weights' gradient, biases' gradient) both in np.array format.\n",
        "        The order of this list should be the same as the model's weights.\n",
        "        For example: [(dW0, db0), (dW1, db1), ... ].\n",
        "        \"\"\"\n",
        "        ############################################################\n",
        "        # TODO: implemente aqui o backward step.\n",
        "        ############################################################\n",
        "        pass\n",
        "\n",
        "    def train(self, n_epochs: int, train_loader: DataLoader, val_loader: DataLoader):\n",
        "        \"\"\"\n",
        "        Arguments:\n",
        "        n_epochs: (int) number of epochs\n",
        "        train_loader: (DataLoader) train DataLoader\n",
        "        val_loader: (DataLoader) validation DataLoader\n",
        "\n",
        "        Return:\n",
        "        A dictionary with the log of train and validation loss along the epochs\n",
        "        \"\"\"\n",
        "        log_dict = {'epoch': [],\n",
        "                   'train_loss': [],\n",
        "                   'val_loss': []}\n",
        "\n",
        "        self.batch_size = train_loader.batch_size\n",
        "        for epoch in tqdm.tqdm_notebook(range(n_epochs)):\n",
        "            train_loss_history = []\n",
        "\n",
        "            for i, batch in enumerate(train_loader):\n",
        "                X, Y = batch\n",
        "                X = X.numpy()\n",
        "                Y = Y.numpy()\n",
        "                Y_pred = self.model.forward(X)\n",
        "                train_loss = self.loss_func(Y, Y_pred)\n",
        "                train_loss_history.append(train_loss)\n",
        "\n",
        "                grads = self.backward(Y)\n",
        "                self.optimizer.step(grads)\n",
        "\n",
        "            val_loss_history = []\n",
        "            for i, batch in enumerate(val_loader):\n",
        "                X, Y = batch\n",
        "                X = X.numpy()\n",
        "                Y = Y.numpy()\n",
        "                Y_pred = self.model.forward(X)\n",
        "                val_loss = self.loss_func(Y, Y_pred)\n",
        "                val_loss_history.append(val_loss)\n",
        "\n",
        "            # anexando a perda ao historico\n",
        "            train_loss = np.array(train_loss_history).mean()\n",
        "            val_loss = np.array(val_loss_history).mean()\n",
        "\n",
        "            log_dict['epoch'].append(epoch)\n",
        "            log_dict['train_loss'].append(train_loss)\n",
        "            log_dict['val_loss'].append(val_loss)\n",
        "\n",
        "        return log_dict"
      ]
    },
    {
      "cell_type": "markdown",
      "metadata": {
        "id": "-teaGwy7gPEU"
      },
      "source": [
        "**Verificação de integridade (*sanity check*)**"
      ]
    },
    {
      "cell_type": "code",
      "execution_count": null,
      "metadata": {
        "id": "cmgA_V9Exe5A"
      },
      "outputs": [],
      "source": [
        "######## checando o Backward pass ########\n",
        "\n",
        "# architecture: 2 x 1 x 2\n",
        "m = Model([2, 1, 2], [ReLU(), Softmax()])\n",
        "\n",
        "X = np.array([[0 ,1],\n",
        "              [-1,0]])\n",
        "\n",
        "W0 = np.array([[2],\n",
        "               [1]])\n",
        "b0 = np.array([[1]])\n",
        "W1 = np.array([[2, 3]])\n",
        "b1 = np.array([[1, -1]])\n",
        "\n",
        "m.weights = [W0, W1]\n",
        "m.bias = [b0, b1]\n",
        "\n",
        "t = Trainer(m, None, CrossEntropy())\n",
        "t.batch_size = X.shape[0]\n",
        "\n",
        "y = np.array([[0,1],\n",
        "              [1,0]])\n",
        "prediction = m.forward(X)\n",
        "grads = t.backward(y)\n",
        "\n",
        "# Deixamos esse valor caso você precise checar seus resultados\n",
        "#\n",
        "# expected_dZ1 = np.array([[ 0.5       , -0.5       ],\n",
        "#                         [-0.11920292,  0.11920292]])\n",
        "#\n",
        "# expected_dZ0 = np.array([[-0.5],\n",
        "#                          [ 0. ]])\n",
        "#\n",
        "# y_pred = np.array([[0.5       , 0.5       ],\n",
        "#                    [0.88079708, 0.11920292]])\n",
        "\n",
        "\n",
        "expected_dW1 = np.array([[ 0.5, -0.5]])\n",
        "\n",
        "expected_db1 = np.array([[ 0.19039854, -0.19039854]])\n",
        "\n",
        "expected_dW0 = np.array([[ 0.  ],\n",
        "                         [-0.25]])\n",
        "\n",
        "expected_db0 = np.array([[-0.25]])\n",
        "\n",
        "dW1, db1 = grads[1]\n",
        "assert (abs(expected_dW1 - dW1) < 1e-8).all(), f\"Expected result for dW1 is {expected_dW1}, but it returns {dW1}\"\n",
        "assert (abs(expected_db1 - db1) < 1e-8).all(), f\"Expected result for db1 is {expected_db1}, but it returns {db1}\"\n",
        "\n",
        "dW0, db0 = grads[0]\n",
        "assert (abs(expected_dW0 - dW0) < 1e-8).all(), f\"Expected result for dW0 is {expected_dW0}, but it returns {dW0}\"\n",
        "assert (abs(expected_db0 - db0) < 1e-8).all(), f\"Expected result for db0 is {expected_db0}, but it returns {db0}\""
      ]
    },
    {
      "cell_type": "code",
      "execution_count": null,
      "metadata": {
        "id": "bUQdlu2fgfR4"
      },
      "outputs": [],
      "source": [
        "######## checando o SGD Optimizer ########\n",
        "\n",
        "# architecture: 2 x 1 x 2\n",
        "m = Model([2, 1, 2], [ReLU(), Softmax()])\n",
        "\n",
        "X = np.array([[0 ,1],\n",
        "              [-1,0]])\n",
        "\n",
        "W0 = np.array([[2],\n",
        "               [1]])\n",
        "b0 = np.array([[1]])\n",
        "W1 = np.array([[2, 3]])\n",
        "b1 = np.array([[1, -1]])\n",
        "\n",
        "m.weights = [W0, W1]\n",
        "m.bias = [b0, b1]\n",
        "\n",
        "t = Trainer(m, None, CrossEntropy())\n",
        "t.batch_size = X.shape[0]\n",
        "\n",
        "y = np.array([[0,1],\n",
        "              [1,0]])\n",
        "prediction = m.forward(X)\n",
        "grads = t.backward(y)\n",
        "opt = SGDOptimizer(m, lr=1)\n",
        "opt.step(grads)\n",
        "\n",
        "expected_W0 = np.array([[2.  ],\n",
        "                        [1.25]])\n",
        "expected_b0 = np.array([[1.25]])\n",
        "\n",
        "expected_W1 = np.array([[1.5, 3.5]])\n",
        "expected_b1 = np.array([[ 0.80960146, -0.80960146]])\n",
        "\n",
        "W0, b0 = m.weights[0], m.bias[0]\n",
        "assert (abs(expected_W0 - W0) < 1e-8).all(), f\"Expected result for W0 after SGD update step is {expected_W0}, but it returns {W0}\"\n",
        "assert (abs(expected_b0 - b0) < 1e-8).all(), f\"Expected result for b0 after SGD update step is {expected_b0}, but it returns {b0}\"\n",
        "\n",
        "W1, b1 = m.weights[1], m.bias[1]\n",
        "assert (abs(expected_W1 - W1) < 1e-8).all(), f\"Expected result for W1 after SGD update step is {expected_W1}, but it returns {W1}\"\n",
        "assert (abs(expected_b1 - b1) < 1e-8).all(), f\"Expected result for b1 after SGD update step is {expected_b1}, but it returns {b1}\""
      ]
    },
    {
      "cell_type": "markdown",
      "metadata": {
        "id": "fAVe7gRhpyVW"
      },
      "source": [
        "#### **Exemplo de uso**\n",
        "\n",
        "Exemplo de uso do *framework* que acabamos de criar."
      ]
    },
    {
      "cell_type": "code",
      "execution_count": null,
      "metadata": {
        "id": "NxoZHaFlxzcO"
      },
      "outputs": [],
      "source": [
        "# Função para auxiliar no plot da perda ao longo das épocas\n",
        "def plot_history(history):\n",
        "    \"\"\"\n",
        "    Plot loss history\n",
        "    \"\"\"\n",
        "    fig, ax = plt.subplots()\n",
        "    ax.plot(history['train_loss'], color='#407cdb', label='Train')\n",
        "    ax.plot(history['val_loss'],color='#db5740', label='Validation')\n",
        "\n",
        "    ax.legend(loc='upper left')\n",
        "    handles, labels = ax.get_legend_handles_labels()\n",
        "    lgd = dict(zip(labels, handles))\n",
        "    ax.legend(lgd.values(), lgd.keys())\n",
        "\n",
        "    plt.xlabel('Epoch')\n",
        "    plt.ylabel('Loss')\n",
        "    plt.title('Loss along the training')\n",
        "    plt.show()"
      ]
    },
    {
      "cell_type": "code",
      "execution_count": null,
      "metadata": {
        "id": "v7oA4JBVx7Nt"
      },
      "outputs": [],
      "source": [
        "model = Model([2352, 500, 100, 8], [ReLU(), ReLU(), Softmax()], initialization_method=\"he\")\n",
        "opt = SGDOptimizer(model, lr=1e-5)\n",
        "trainer = Trainer(model, opt, CrossEntropy())\n",
        "history = trainer.train(15, train_loader, val_loader)\n",
        "plot_history(history)"
      ]
    },
    {
      "cell_type": "markdown",
      "metadata": {
        "id": "Sa-06Elys727"
      },
      "source": [
        "## 3. Atividades Exploratórias\n",
        "\n",
        "Para todos os exercícios, plote a perda ao longo das épocas e reporte o desempenho do seu modelo no conjunto de validação. Cuidado com *underfitting* e *overfitting*."
      ]
    },
    {
      "cell_type": "markdown",
      "metadata": {
        "id": "HVF0Me0AtI_L"
      },
      "source": [
        "1. (1 ponto) Projete uma Rede Neural, usando uma ou duas camadas ocultas, ReLU e softmax como funções de ativação, inicialização de pesos aleatória e SGD para treiná-la. Você deve escolher uma taxa de aprendizado apropriada e um número de épocas."
      ]
    },
    {
      "cell_type": "code",
      "execution_count": null,
      "metadata": {
        "id": "8LdPSaRrtIHB"
      },
      "outputs": [],
      "source": []
    },
    {
      "cell_type": "markdown",
      "metadata": {
        "id": "dV2pjLS7IN-B"
      },
      "source": [
        "> **Quais foram suas conclusões? (1-2 parágrafos)**\n",
        ">\n",
        "> *\\[Escreva as conclusões aqui]*\n"
      ]
    },
    {
      "cell_type": "markdown",
      "metadata": {
        "id": "HH37WYb-w7VV"
      },
      "source": [
        "2. (2 pontos) Experimente outras duas técnicas de inicialização de pesos e *bias* (normalização de He et al. e a outra que você implementou)."
      ]
    },
    {
      "cell_type": "code",
      "execution_count": null,
      "metadata": {
        "id": "04YrVDjnyxWk"
      },
      "outputs": [],
      "source": []
    },
    {
      "cell_type": "markdown",
      "metadata": {
        "id": "1VdASrAoRJqo"
      },
      "source": [
        "> **Quais são as conclusões? Como as técnicas influenciam o desempenho dos modelos? (1-2 parágrafos)**\n",
        ">\n",
        "> *\\[Escreva as conclusões aqui]*"
      ]
    },
    {
      "cell_type": "markdown",
      "metadata": {
        "id": "od0SZdE9zWRw"
      },
      "source": [
        "3. (1 ponto) Escolha a técnica de inicialização de pesos e *bias* que resultou no melhor desempenho e experimente a outra função de ativação que você implementou."
      ]
    },
    {
      "cell_type": "code",
      "execution_count": null,
      "metadata": {
        "id": "HoKXx7dBzWSK"
      },
      "outputs": [],
      "source": []
    },
    {
      "cell_type": "markdown",
      "metadata": {
        "id": "72JVCLM8RKc8"
      },
      "source": [
        "> **Quais são as conclusões? Isso faz alguma diferença nos resultados? (1-2 parágrafos)**\n",
        ">\n",
        "> *\\[Escreva as conclusões aqui]*"
      ]
    },
    {
      "cell_type": "markdown",
      "metadata": {
        "id": "_DiD_tlt0EqP"
      },
      "source": [
        "4. (3 pontos) Explore diferentes arquiteturas de rede, variando o número de camadas e o número de neurônios em cada camada. É um experimento empírico."
      ]
    },
    {
      "cell_type": "code",
      "execution_count": null,
      "metadata": {
        "id": "X9P8wy9f0EqQ"
      },
      "outputs": [],
      "source": []
    },
    {
      "cell_type": "markdown",
      "metadata": {
        "id": "0zVurSGCRKqq"
      },
      "source": [
        "> **Quais são as conclusões? Como o número de camadas impacta o desempenho dos modelos? (2-4 parágrafos)**\n",
        ">\n",
        "> *\\[Escreva as conclusões aqui]*"
      ]
    },
    {
      "cell_type": "markdown",
      "metadata": {
        "id": "-llDTQXw1DS5"
      },
      "source": [
        "5. (2 pontos) Escolha a melhor arquitetura de rede e treine seu modelo usando o otimizador que você escolheu implementar."
      ]
    },
    {
      "cell_type": "code",
      "execution_count": null,
      "metadata": {
        "id": "hzlrgVpp1DS6"
      },
      "outputs": [],
      "source": []
    },
    {
      "cell_type": "markdown",
      "metadata": {
        "id": "oUE58OjxRLEf"
      },
      "source": [
        "> **Quais são as conclusões? A mudança de otimizador impacta de alguma forma a curva de perda ao longo das épocas? (1-2 parágrafos)**\n",
        ">\n",
        "> *\\[Escreva as conclusões aqui]*"
      ]
    },
    {
      "cell_type": "markdown",
      "metadata": {
        "id": "AsqB52aruaUx"
      },
      "source": [
        "6. (1 ponto) Escolha seu melhor modelo, faça previsões para o conjunto de teste e envie-as para a competição [Redes Neurais – Tarefa #3 de MC886/MO444 2024S2](https://www.kaggle.com/t/f3a05870932d4bb49d59d18cc4a44a2d) no Kaggle. Reporte sua pontuação considerando a tabela de classificação pública. A plataforma calculará automaticamente a métrica de avaliação, a **acurácia balanceada**.\n",
        "\n",
        "> **Observação:** Não se preocupe apenas com o resultado do seu modelo. O seu resultado no placar não irá influenciar a sua nota nesta atividade :)."
      ]
    },
    {
      "cell_type": "code",
      "execution_count": null,
      "metadata": {
        "id": "-DtN5oObuZ20"
      },
      "outputs": [],
      "source": []
    },
    {
      "cell_type": "markdown",
      "metadata": {
        "id": "LXFzJFuARLcH"
      },
      "source": [
        "> **Quais foram suas conclusões? (1-2 parágrafos)**\n",
        ">\n",
        "> *\\[Escreva as conclusões aqui]*\n"
      ]
    },
    {
      "cell_type": "markdown",
      "metadata": {
        "id": "XhxAhwCVTSrF"
      },
      "source": [
        "---\n",
        "\n",
        "## Prazo\n",
        "\n",
        "**Prazo de entrega:** 06 de Novembro, quarta-feira, 23:59.\n",
        "\n",
        "**Política de penalidades por envio atrasado:** Você não está sendo encorajada(o) a submeter o trabalho após a data de submissão. Entretanto, caso isso aconteça, a nota será penalizada da seguinte forma:\n",
        "- 07 de Novembro, 23:59: nota * 0,75\n",
        "- 08 de Novembro, 23:59: nota * 0,5\n",
        "- 09 de Novembro, 23:59: nota * 0,25\n",
        "\n",
        "## Envio\n",
        "\n",
        "No Google Classroom, envie seu Jupyter Notebook, no formato `RA1_RA2_2024s2_mc886mo444_trabalho_03.ipynb`.\n",
        "\n",
        "**Esta atividade NÃO é individual, deve ser realizada em dupla (grupo de duas pessoas).**"
      ]
    }
  ],
  "metadata": {
    "colab": {
      "provenance": [],
      "include_colab_link": true
    },
    "kernelspec": {
      "display_name": "Python 3",
      "name": "python3"
    },
    "language_info": {
      "name": "python"
    }
  },
  "nbformat": 4,
  "nbformat_minor": 0
}